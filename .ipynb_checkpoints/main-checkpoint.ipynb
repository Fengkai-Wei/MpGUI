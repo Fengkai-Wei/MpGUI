{
 "cells": [
  {
   "cell_type": "code",
   "execution_count": 17,
   "id": "558b65f1-a19b-4486-80b7-2d5845f7e086",
   "metadata": {},
   "outputs": [
    {
     "data": {
      "text/plain": [
       "0"
      ]
     },
     "execution_count": 17,
     "metadata": {},
     "output_type": "execute_result"
    }
   ],
   "source": [
    "from PySide6.QtWidgets import QApplication\n",
    "from PySide6 import QtWidgets\n",
    "from main_window import MainWindow\n",
    "import main_window\n",
    "import sys\n",
    "import temp_global_var\n",
    "import mp_sim\n",
    "import importlib\n",
    "\n",
    "\n",
    "importlib.reload(mp_sim)\n",
    "importlib.reload(main_window)\n",
    "\n",
    "temp_global_var._init()\n",
    "\n",
    "if not QtWidgets.QApplication.instance():\n",
    "    app = QtWidgets.QApplication(sys.argv)\n",
    "else:\n",
    "    app = QtWidgets.QApplication.instance()\n",
    "\n",
    "window = main_window.MainWindow(app)\n",
    "window.show()\n",
    "\n",
    "app.exec()"
   ]
  },
  {
   "cell_type": "code",
   "execution_count": 12,
   "id": "39c8b419-1c28-4848-8eab-6acf8453c4ea",
   "metadata": {},
   "outputs": [
    {
     "data": {
      "text/plain": [
       "<module 'mp_sim' from '/home/fkpc101/GUI/My_tests/mp_sim.py'>"
      ]
     },
     "execution_count": 12,
     "metadata": {},
     "output_type": "execute_result"
    }
   ],
   "source": [
    "import mp_sim\n",
    "import importlib\n",
    "import temp_global_var\n",
    "importlib.reload(mp_sim)\n"
   ]
  },
  {
   "cell_type": "code",
   "execution_count": 13,
   "id": "e5623cb2-ac06-4463-a812-8cd3581dd7cf",
   "metadata": {},
   "outputs": [
    {
     "data": {
      "text/plain": [
       "'Please define at least a FDTD volume before build the Simulation.'"
      ]
     },
     "execution_count": 13,
     "metadata": {},
     "output_type": "execute_result"
    }
   ],
   "source": [
    "mp_sim.build(dimensions = 1)\n"
   ]
  },
  {
   "cell_type": "code",
   "execution_count": null,
   "id": "6e761d3c-94e8-4adb-84d0-5d9e50a706bc",
   "metadata": {},
   "outputs": [],
   "source": []
  },
  {
   "cell_type": "code",
   "execution_count": null,
   "id": "e98ab205-1cc5-4661-a1a8-51c4bb2d5d11",
   "metadata": {},
   "outputs": [],
   "source": []
  },
  {
   "cell_type": "code",
   "execution_count": null,
   "id": "24026dca-1f66-4ed9-b995-8aba38c8d6c2",
   "metadata": {},
   "outputs": [],
   "source": []
  }
 ],
 "metadata": {
  "kernelspec": {
   "display_name": "Python 3 (ipykernel)",
   "language": "python",
   "name": "python3"
  },
  "language_info": {
   "codemirror_mode": {
    "name": "ipython",
    "version": 3
   },
   "file_extension": ".py",
   "mimetype": "text/x-python",
   "name": "python",
   "nbconvert_exporter": "python",
   "pygments_lexer": "ipython3",
   "version": "3.11.6"
  }
 },
 "nbformat": 4,
 "nbformat_minor": 5
}
